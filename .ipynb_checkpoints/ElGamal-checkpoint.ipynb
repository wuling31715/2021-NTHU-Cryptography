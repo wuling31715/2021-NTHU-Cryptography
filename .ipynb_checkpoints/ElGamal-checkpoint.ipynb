{
 "cells": [
  {
   "cell_type": "markdown",
   "metadata": {},
   "source": [
    "1. This problem is about ElGamal encryption and signature schemes. (20 points)"
   ]
  },
  {
   "cell_type": "markdown",
   "metadata": {},
   "source": [
    "* (a) Let p = 83 and g = 16 be a generator of $Z^{*}_{83}$. Assume that the public key is (p, g, 60) and the secret key (p, g, 29). Encrypt the plaintext m = 25 and decrypt the ciphertext (56, 13)."
   ]
  },
  {
   "cell_type": "code",
   "execution_count": 1,
   "metadata": {},
   "outputs": [],
   "source": [
    "def encrypt(g, y, m, k, mod):\n",
    "    c1 = g ** k % mod\n",
    "    c2 = m * y**k % mod\n",
    "    return (c1, c2)"
   ]
  },
  {
   "cell_type": "code",
   "execution_count": 2,
   "metadata": {},
   "outputs": [
    {
     "name": "stdout",
     "output_type": "stream",
     "text": [
      "(7, 28)\n"
     ]
    }
   ],
   "source": [
    "g = 16\n",
    "y = 60\n",
    "m = 25\n",
    "k = 2\n",
    "mod = 83\n",
    "c1, c2 = encrypt(g, y, m, k, mod)\n",
    "print((c1, c2))"
   ]
  },
  {
   "cell_type": "code",
   "execution_count": 3,
   "metadata": {},
   "outputs": [],
   "source": [
    "def decrypt(c1, c2, pk, mod):\n",
    "    m = c1 ** (mod - 1 - pk) * c2 % mod\n",
    "    return m"
   ]
  },
  {
   "cell_type": "code",
   "execution_count": 4,
   "metadata": {},
   "outputs": [
    {
     "name": "stdout",
     "output_type": "stream",
     "text": [
      "16\n"
     ]
    }
   ],
   "source": [
    "c1 = 56\n",
    "c2 = 13\n",
    "pk = 29\n",
    "m = decrypt(c1, c2, pk, mod)\n",
    "print(m)"
   ]
  },
  {
   "cell_type": "markdown",
   "metadata": {},
   "source": [
    "* (b) Use the secret key as the signing key to sign the message m = 25. The randomly chosen k is 28. You don’t need to do hashing before signing."
   ]
  },
  {
   "cell_type": "code",
   "execution_count": null,
   "metadata": {},
   "outputs": [],
   "source": []
  },
  {
   "cell_type": "markdown",
   "metadata": {},
   "source": [
    "2. For DSA, let the public key be (p = 149, q = 37, g = 41, y = 120), and the secret key be (p = 149, q = 37, g = 41, x = 26). Assume that the hash function is h(m) = $m^{21}$ mod 37. (30 points)"
   ]
  },
  {
   "cell_type": "markdown",
   "metadata": {},
   "source": [
    "* (a) Compute the signature of m = 9876543210."
   ]
  },
  {
   "cell_type": "code",
   "execution_count": null,
   "metadata": {},
   "outputs": [],
   "source": []
  },
  {
   "cell_type": "markdown",
   "metadata": {},
   "source": [
    "* (b) Is (12, 25) a valid signature for m = 3248?"
   ]
  },
  {
   "cell_type": "code",
   "execution_count": null,
   "metadata": {},
   "outputs": [],
   "source": []
  },
  {
   "cell_type": "markdown",
   "metadata": {},
   "source": [
    "3. Show that the regular RSA signature scheme is ”arbitrarily forgeable” (forging the signature of any challenge message m) if the attacker is allowed to ask the signing oracle. Note that the challenge message m cannot be queried to the signing oracle. (20 points)"
   ]
  },
  {
   "cell_type": "markdown",
   "metadata": {},
   "source": [
    "4. Why is the ”sequential” DL-based interactive proof system zero-knowledge? Why isn’t the ”parallel” DL-based interactive proof system zero-knowledge? (30 points)"
   ]
  }
 ],
 "metadata": {
  "kernelspec": {
   "display_name": "Python 3",
   "language": "python",
   "name": "python3"
  },
  "language_info": {
   "codemirror_mode": {
    "name": "ipython",
    "version": 3
   },
   "file_extension": ".py",
   "mimetype": "text/x-python",
   "name": "python",
   "nbconvert_exporter": "python",
   "pygments_lexer": "ipython3",
   "version": "3.6.12"
  }
 },
 "nbformat": 4,
 "nbformat_minor": 4
}
