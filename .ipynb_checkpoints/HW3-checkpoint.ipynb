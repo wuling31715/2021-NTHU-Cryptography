{
 "cells": [
  {
   "cell_type": "markdown",
   "metadata": {},
   "source": [
    "# HW3"
   ]
  },
  {
   "cell_type": "markdown",
   "metadata": {},
   "source": [
    "### 1. This problem is about ElGamal encryption and signature schemes. (20 points)"
   ]
  },
  {
   "cell_type": "markdown",
   "metadata": {},
   "source": [
    "##### (a) Let p = 83 and g = 16 be a generator of $Z^{*}_{83}$. Assume that the public key is (p, g, 60) and the secret key (p, g, 29). Encrypt the plaintext m = 25 and decrypt the ciphertext (56, 13)."
   ]
  },
  {
   "cell_type": "markdown",
   "metadata": {},
   "source": [
    "##### Answer"
   ]
  },
  {
   "cell_type": "markdown",
   "metadata": {},
   "source": [
    "$\n",
    "\\text{To encrypt message } m = 25, \\text{choose a random } k, 1 \\leq k \\leq p - 2 \\text{ let } k = 2 \\\\\n",
    "c = (c_1, c_2) = (g^k, m*y^k) = (16, 25*60^2) = (7, 28) \\mod 83 \\\\\n",
    "\\rightarrow c = (c_1, c_2) = (7, 28) \\\\\n",
    "$"
   ]
  },
  {
   "cell_type": "markdown",
   "metadata": {},
   "source": [
    "$\n",
    "\\text{To decrypt a ciphertext } c = (c_1, c_2) \\\\\n",
    "c_1^{-x}c_2 = y^{-k}y^km = m = 56^{-29}*13 = 56^{82-29} * 13 =  56^{53} * 13 = 16 \\mod 83 \\\\\n",
    "\\rightarrow m = 16 \\\\\n",
    "$"
   ]
  },
  {
   "cell_type": "code",
   "execution_count": 1,
   "metadata": {},
   "outputs": [],
   "source": [
    "def encrypt(g, y, m, k, mod):\n",
    "    c1 = g ** k % mod\n",
    "    c2 = m * y**k % mod\n",
    "    return (c1, c2)"
   ]
  },
  {
   "cell_type": "code",
   "execution_count": 2,
   "metadata": {},
   "outputs": [],
   "source": [
    "def decrypt(c1, c2, pk, mod):\n",
    "    m = c1 ** (mod - 1 - pk) * c2 % mod\n",
    "    return m"
   ]
  },
  {
   "cell_type": "code",
   "execution_count": 3,
   "metadata": {},
   "outputs": [
    {
     "name": "stdout",
     "output_type": "stream",
     "text": [
      "(7, 28)\n"
     ]
    }
   ],
   "source": [
    "g = 16\n",
    "y = 60\n",
    "m = 25\n",
    "k = 2\n",
    "mod = 83\n",
    "c1, c2 = encrypt(g, y, m, k, mod)\n",
    "print((c1, c2))"
   ]
  },
  {
   "cell_type": "code",
   "execution_count": 4,
   "metadata": {},
   "outputs": [
    {
     "name": "stdout",
     "output_type": "stream",
     "text": [
      "16\n"
     ]
    }
   ],
   "source": [
    "c1 = 56\n",
    "c2 = 13\n",
    "pk = 29\n",
    "m = decrypt(c1, c2, pk, mod)\n",
    "print(m)"
   ]
  },
  {
   "cell_type": "markdown",
   "metadata": {},
   "source": [
    "##### (b) Use the secret key as the signing key to sign the message m = 25. The randomly chosen k is 28. You don’t need to do hashing before signing."
   ]
  },
  {
   "cell_type": "markdown",
   "metadata": {},
   "source": [
    "##### Answer"
   ]
  },
  {
   "cell_type": "markdown",
   "metadata": {},
   "source": [
    "$ \n",
    "\\because \\gcd(k, p - 1) = \\gcd(28, 82) \\neq 1 \\\\ \n",
    "\\therefore \\text{let } k = 23 \\\\\n",
    "r = g^k \\mod p = 16^{23} \\mod 83 = 28 \\\\\n",
    "s = k^{-1} * (m - rx) \\mod (p-1) = 23^{-1}*(25-28*29)\\mod 82 = 25*33\\mod 82 = 5 \\\\\n",
    "\\rightarrow (r, s) = (28, 5)\n",
    "$"
   ]
  },
  {
   "cell_type": "code",
   "execution_count": 5,
   "metadata": {},
   "outputs": [],
   "source": [
    "def mod_inverse(a, mod):\n",
    "    for x in range(1, mod):\n",
    "        if (((a % mod) * (x % mod)) % mod == 1):\n",
    "            return x\n",
    "    return -1"
   ]
  },
  {
   "cell_type": "code",
   "execution_count": 6,
   "metadata": {},
   "outputs": [],
   "source": [
    "def get_B(p, a, z):\n",
    "    return a ** z % p"
   ]
  },
  {
   "cell_type": "code",
   "execution_count": 7,
   "metadata": {},
   "outputs": [],
   "source": [
    "def signature(p, k, z, m):\n",
    "    r = a ** k % p\n",
    "    s = mod_inverse(k, p - 1) * (m - z * r) % (p - 1)\n",
    "    return (r, s)"
   ]
  },
  {
   "cell_type": "code",
   "execution_count": 8,
   "metadata": {},
   "outputs": [],
   "source": [
    "def verify(p, B, a, m, r, s):\n",
    "    v1 = (B ** r) * (r ** s) % p\n",
    "    v2 = a ** m % p\n",
    "    print(v1, v2)\n",
    "    if v1 == v2:\n",
    "        return True\n",
    "    else:\n",
    "        return False"
   ]
  },
  {
   "cell_type": "code",
   "execution_count": 9,
   "metadata": {},
   "outputs": [
    {
     "name": "stdout",
     "output_type": "stream",
     "text": [
      "59\n"
     ]
    }
   ],
   "source": [
    "p = 83\n",
    "a = 16\n",
    "z = 29\n",
    "B = get_B(p, a, z)\n",
    "print(B)"
   ]
  },
  {
   "cell_type": "code",
   "execution_count": 10,
   "metadata": {},
   "outputs": [
    {
     "name": "stdout",
     "output_type": "stream",
     "text": [
      "(28, 5)\n"
     ]
    }
   ],
   "source": [
    "k = 23\n",
    "m = 25\n",
    "r, s = signature(p, k, z, m)\n",
    "print((r, s))"
   ]
  },
  {
   "cell_type": "code",
   "execution_count": 11,
   "metadata": {},
   "outputs": [
    {
     "name": "stdout",
     "output_type": "stream",
     "text": [
      "30 30\n",
      "True\n"
     ]
    }
   ],
   "source": [
    "print(verify(p, B, a, m, r, s))"
   ]
  },
  {
   "cell_type": "markdown",
   "metadata": {},
   "source": [
    "### 2. For DSA, let the public key be (p = 149, q = 37, g = 41, y = 120), and the secret key be (p = 149, q = 37, g = 41, x = 26). Assume that the hash function is h(m) = $m^{21}$ mod 37. (30 points)"
   ]
  },
  {
   "cell_type": "markdown",
   "metadata": {},
   "source": [
    "##### (a) Compute the signature of m = 9876543210."
   ]
  },
  {
   "cell_type": "markdown",
   "metadata": {},
   "source": [
    "##### Answer"
   ]
  },
  {
   "cell_type": "markdown",
   "metadata": {},
   "source": [
    "$\n",
    "\\text{Let } k = 1 \\\\\n",
    "h(m) = m^{21} \\mod q = h(9876543210) = 9876543210^{21} \\mod 37 = 1 \\\\\n",
    "r = (g^k \\mod p) \\mod q = (41^21 \\mod 149) \\mod 37 = 42 \\mod 37 = 5 \\\\\n",
    "s = k^{-1} * (h(m) + r * x) \\mod q = 2^{-1} * (1 + 5 * 26) \\mod 37 = 19 * 20 \\mod 37 = 10 \\\\\n",
    "\\rightarrow (r, s) = (5, 10)\n",
    "$"
   ]
  },
  {
   "cell_type": "code",
   "execution_count": 12,
   "metadata": {},
   "outputs": [],
   "source": [
    "def h(m, i, mod):\n",
    "    return m ** i % mod"
   ]
  },
  {
   "cell_type": "code",
   "execution_count": 13,
   "metadata": {},
   "outputs": [],
   "source": [
    "def signature(p, q, g, x, k, i, m):\n",
    "    r = g ** k % p % q\n",
    "    s = mod_inverse(k, q) * (h(m, i, q) + r * x) % q\n",
    "    return (r, s)"
   ]
  },
  {
   "cell_type": "code",
   "execution_count": 14,
   "metadata": {},
   "outputs": [
    {
     "name": "stdout",
     "output_type": "stream",
     "text": [
      "(5, 10)\n"
     ]
    }
   ],
   "source": [
    "p = 149\n",
    "q = 37\n",
    "g = 41\n",
    "y = 120\n",
    "x = 26\n",
    "k = 2\n",
    "i = 21\n",
    "m = 9876543210\n",
    "r, s = signature(p, q, g, x, k, i, m)\n",
    "print((r, s))"
   ]
  },
  {
   "cell_type": "markdown",
   "metadata": {},
   "source": [
    "##### (b) Is (12, 25) a valid signature for m = 3248?"
   ]
  },
  {
   "cell_type": "markdown",
   "metadata": {},
   "source": [
    "##### Answer"
   ]
  },
  {
   "cell_type": "markdown",
   "metadata": {},
   "source": [
    "$\n",
    "1 \\leq (r, s) \\leq q - 1 \\rightarrow 1 \\leq (12, 25) \\leq 36 \\rightarrow True \\\\ \n",
    "t = s^{-1} \\mod q = 25^{-1} \\mod 37 = 3 \\\\\n",
    "v = ((g^{h(x)} * y^r)^t \\mod p) \\mod q = ((41^{31} * 120^{12})^3 \\mod 149) \\mod 37 = 4 \\\\\n",
    "\\because t = 3 \\neq v = 4 \\\\\n",
    "\\therefore (12, 25) \\text{ is not a valid signature for } m = 3248 \\\\\n",
    "$"
   ]
  },
  {
   "cell_type": "code",
   "execution_count": 15,
   "metadata": {},
   "outputs": [],
   "source": [
    "def verify(r, s, q, g, y, i, m):\n",
    "    if r < 1 or r > q - 1 or s < 1 or s > q - 1:\n",
    "        return False\n",
    "    t = mod_inverse(s, q)\n",
    "    v = (g ** h(m, i, q) * y ** r) ** t % p % q\n",
    "    print(t, v)\n",
    "    if t == v:\n",
    "        return True\n",
    "    else:\n",
    "        return False"
   ]
  },
  {
   "cell_type": "code",
   "execution_count": 16,
   "metadata": {},
   "outputs": [
    {
     "name": "stdout",
     "output_type": "stream",
     "text": [
      "3 4\n",
      "False\n"
     ]
    }
   ],
   "source": [
    "r = 12\n",
    "s = 25\n",
    "m = 3248\n",
    "print(verify(r, s, q, g, y, i, m))"
   ]
  },
  {
   "cell_type": "markdown",
   "metadata": {},
   "source": [
    "### 3. Show that the regular RSA signature scheme is ”arbitrarily forgeable” (forging the signature of any challenge message m) if the attacker is allowed to ask the signing oracle. Note that the challenge message m cannot be queried to the signing oracle. (20 points)"
   ]
  },
  {
   "cell_type": "markdown",
   "metadata": {},
   "source": [
    "##### Answer"
   ]
  },
  {
   "cell_type": "markdown",
   "metadata": {},
   "source": [
    "$ \n",
    "\\text{To forge the RSA signature } \\sigma \\text{ of any challenge message m } \\\\\n",
    "\\text{Step 1: The attacker query the signing oracle the message } m' = m * r^e \\mod N, \\text{ where randomly choose }r \\in R \\\\\n",
    "\\text{Step 2: The signing oracle will return the signature } \\sigma' = m'^{d} = m^d * r \\mod N \\\\\n",
    "\\text{Step 3: The attacker can get the signature by computing the signature } \\sigma = \\frac{\\sigma'}{r} = m^d \\mod N \\\\ \n",
    "\\text{Hence, we prove that the regular RSA signature scheme is ”arbitrarily forgeable”, if the attacker is allowed to ask the signing oracle. } \n",
    "$"
   ]
  },
  {
   "cell_type": "markdown",
   "metadata": {},
   "source": [
    "![RSA](RSA.png)"
   ]
  },
  {
   "cell_type": "markdown",
   "metadata": {},
   "source": [
    "### 4. Why is the ”sequential” DL-based interactive proof system zero-knowledge? Why isn’t the ”parallel” DL-based interactive proof system zero-knowledge? (30 points)"
   ]
  },
  {
   "cell_type": "markdown",
   "metadata": {},
   "source": [
    "##### Answer"
   ]
  },
  {
   "cell_type": "markdown",
   "metadata": {},
   "source": [
    "A zero-knowledge proof must satisfy three properties:\n",
    "1. Completeness: if the statement is true, the honest verifier (that is, one following the protocol properly) will be convinced of this fact by an honest prover.\n",
    "2. Soundness: if the statement is false, no cheating prover can convince the honest verifier that it is true, except with some small probability.\n",
    "3. Zero-knowledge: if the statement is true, no verifier learns anything other than the fact that the statement is true. In other words, just knowing the statement (not the secret) is sufficient to imagine a scenario showing that the prover knows the secret. This is formalized by showing that every verifier has some simulator that, given only the statement to be proved (and no access to the prover), can produce a transcript that \"looks like\" an interaction between the honest prover and the verifier in question."
   ]
  },
  {
   "cell_type": "markdown",
   "metadata": {},
   "source": [
    "##### Sequential DL-based interactive"
   ]
  },
  {
   "cell_type": "markdown",
   "metadata": {},
   "source": [
    "$\n",
    "\\text{We can run the base DL IP } t \\text{ times. V accepts if all } t \\text{ runs end up with acceptance.} \\\\\n",
    "\\text{The acceptance transcript is } \\{𝐴_1, c_1, 𝐵_1, 𝐴_2, c_2, 𝐵_2, ... , 𝐴_t, c_t , 𝐵_t \\} , \\text{ where } g^{𝐵_i} = x^{c_i}A_i \\mod p, \\text{ for } 1 \\leq i \\leq n \\\\\n",
    "\\text{Hence, the transcript can be simulated in expected polynomial time by a simulator.}\n",
    "$"
   ]
  },
  {
   "cell_type": "markdown",
   "metadata": {},
   "source": [
    "![S-DL](S-DL.png)"
   ]
  },
  {
   "cell_type": "markdown",
   "metadata": {},
   "source": [
    "##### Parallel DL-based interactive"
   ]
  },
  {
   "cell_type": "markdown",
   "metadata": {},
   "source": [
    "$\n",
    "\\text{Hoever, if we run the base DL IP } t \\text{ copies at the same time.} \\\\\n",
    "\\text{The acceptance transcript is } \\{𝐴_1, c_1, 𝐵_1, 𝐴_2, c_2, 𝐵_2, ... , 𝐴_t, c_t , 𝐵_t \\} , \\text{ where } g^{𝐵_i} = x^{c_i}A_i \\mod p, \\text{ for } 1 \\leq i \\leq n \\\\\n",
    "\\text{The transcript can not be simulated in expected polynomial time by a simulator.}\n",
    "$"
   ]
  },
  {
   "cell_type": "markdown",
   "metadata": {},
   "source": [
    "![P-DL](P-DL.png)"
   ]
  }
 ],
 "metadata": {
  "kernelspec": {
   "display_name": "Python 3",
   "language": "python",
   "name": "python3"
  },
  "language_info": {
   "codemirror_mode": {
    "name": "ipython",
    "version": 3
   },
   "file_extension": ".py",
   "mimetype": "text/x-python",
   "name": "python",
   "nbconvert_exporter": "python",
   "pygments_lexer": "ipython3",
   "version": "3.6.12"
  }
 },
 "nbformat": 4,
 "nbformat_minor": 4
}
