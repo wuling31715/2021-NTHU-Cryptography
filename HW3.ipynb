{
 "cells": [
  {
   "cell_type": "markdown",
   "metadata": {},
   "source": [
    "# HW3"
   ]
  },
  {
   "cell_type": "markdown",
   "metadata": {},
   "source": [
    "### 1. This problem is about ElGamal encryption and signature schemes. (20 points)"
   ]
  },
  {
   "cell_type": "markdown",
   "metadata": {},
   "source": [
    "##### (a) Let p = 83 and g = 16 be a generator of $Z^{*}_{83}$. Assume that the public key is (p, g, 60) and the secret key (p, g, 29). Encrypt the plaintext m = 25 and decrypt the ciphertext (56, 13)."
   ]
  },
  {
   "cell_type": "markdown",
   "metadata": {},
   "source": [
    "##### Answer"
   ]
  },
  {
   "cell_type": "markdown",
   "metadata": {},
   "source": [
    "To encrypt message m = 25, choose a random k, $ 1 \\leq k \\leq p - 2 $, let k = 2."
   ]
  },
  {
   "cell_type": "markdown",
   "metadata": {},
   "source": [
    "* $ c = (c_1, c_2) = (g^k, m*y^k) = (16, 25*60^2) = (7, 28) \\mod 83 $"
   ]
  },
  {
   "cell_type": "markdown",
   "metadata": {},
   "source": [
    "To decrypt a ciphertext $ c = (c_1, c_2) $"
   ]
  },
  {
   "cell_type": "markdown",
   "metadata": {},
   "source": [
    "* $ c_1^{-x}c_2 = y^{-k}y^km = m = 56^{-29}*13 = 56^{82-29} * 13 =  56^{53} * 13 = 16 \\mod 83 $"
   ]
  },
  {
   "cell_type": "markdown",
   "metadata": {},
   "source": [
    "##### Code"
   ]
  },
  {
   "cell_type": "code",
   "execution_count": 1,
   "metadata": {},
   "outputs": [],
   "source": [
    "def encrypt(g, y, m, k, mod):\n",
    "    c1 = g ** k % mod\n",
    "    c2 = m * y**k % mod\n",
    "    return (c1, c2)"
   ]
  },
  {
   "cell_type": "code",
   "execution_count": 2,
   "metadata": {},
   "outputs": [],
   "source": [
    "def decrypt(c1, c2, pk, mod):\n",
    "    m = c1 ** (mod - 1 - pk) * c2 % mod\n",
    "    return m"
   ]
  },
  {
   "cell_type": "code",
   "execution_count": 3,
   "metadata": {},
   "outputs": [
    {
     "name": "stdout",
     "output_type": "stream",
     "text": [
      "(7, 28)\n"
     ]
    }
   ],
   "source": [
    "g = 16\n",
    "y = 60\n",
    "m = 25\n",
    "k = 2\n",
    "mod = 83\n",
    "c1, c2 = encrypt(g, y, m, k, mod)\n",
    "print((c1, c2))"
   ]
  },
  {
   "cell_type": "code",
   "execution_count": 4,
   "metadata": {},
   "outputs": [
    {
     "name": "stdout",
     "output_type": "stream",
     "text": [
      "16\n"
     ]
    }
   ],
   "source": [
    "c1 = 56\n",
    "c2 = 13\n",
    "pk = 29\n",
    "m = decrypt(c1, c2, pk, mod)\n",
    "print(m)"
   ]
  },
  {
   "cell_type": "markdown",
   "metadata": {},
   "source": [
    "##### (b) Use the secret key as the signing key to sign the message m = 25. The randomly chosen k is 28. You don’t need to do hashing before signing."
   ]
  },
  {
   "cell_type": "markdown",
   "metadata": {},
   "source": [
    "##### Answer"
   ]
  },
  {
   "cell_type": "markdown",
   "metadata": {},
   "source": [
    "$ \n",
    "\\because \\gcd(k, p - 1) = \\gcd(28, 82) \\neq 1 \\\\ \n",
    "\\therefore \\text{let } k = 23 \\\\\n",
    "r = g^k \\mod p = 16^{23} \\mod 83 = 28 \\mod 83 \\\\\n",
    "s = k^{-1} * (m - rx) \\mod (p-1) = 23^{-1}*(25-28*29)\\mod 82 = 25*33\\mod 82 = 5\n",
    "$"
   ]
  },
  {
   "cell_type": "code",
   "execution_count": 14,
   "metadata": {},
   "outputs": [
    {
     "data": {
      "text/plain": [
       "33"
      ]
     },
     "execution_count": 14,
     "metadata": {},
     "output_type": "execute_result"
    }
   ],
   "source": [
    "(25-28*29)%82"
   ]
  },
  {
   "cell_type": "markdown",
   "metadata": {},
   "source": [
    "##### Code"
   ]
  },
  {
   "cell_type": "code",
   "execution_count": 5,
   "metadata": {},
   "outputs": [],
   "source": [
    "def mod_inverse(a, mod):\n",
    "    for x in range(1, mod):\n",
    "        if (((a % mod) * (x % mod)) % mod == 1):\n",
    "            return x\n",
    "    return -1"
   ]
  },
  {
   "cell_type": "code",
   "execution_count": 6,
   "metadata": {},
   "outputs": [],
   "source": [
    "def get_B(p, a, z):\n",
    "    return a ** z % p"
   ]
  },
  {
   "cell_type": "code",
   "execution_count": 7,
   "metadata": {},
   "outputs": [],
   "source": [
    "def signature(p, k, z, m):\n",
    "    r = a ** k % p\n",
    "    s = mod_inverse(k, p - 1) * (m - z * r) % (p - 1)\n",
    "    return (r, s)"
   ]
  },
  {
   "cell_type": "code",
   "execution_count": 8,
   "metadata": {},
   "outputs": [],
   "source": [
    "def verify(p, B, a, m, r, s):\n",
    "    v1 = (B ** r) * (r ** s) % p\n",
    "    v2 = a ** m % p\n",
    "    return (v1, v2)"
   ]
  },
  {
   "cell_type": "code",
   "execution_count": 9,
   "metadata": {},
   "outputs": [
    {
     "name": "stdout",
     "output_type": "stream",
     "text": [
      "59\n"
     ]
    }
   ],
   "source": [
    "p = 83\n",
    "a = 16\n",
    "z = 29\n",
    "B = get_B(p, a, z)\n",
    "print(B)"
   ]
  },
  {
   "cell_type": "code",
   "execution_count": 10,
   "metadata": {},
   "outputs": [
    {
     "name": "stdout",
     "output_type": "stream",
     "text": [
      "(28, 5)\n"
     ]
    }
   ],
   "source": [
    "k = 23\n",
    "m = 25\n",
    "r, s = signature(p, k, z, m)\n",
    "print((r, s))"
   ]
  },
  {
   "cell_type": "code",
   "execution_count": 11,
   "metadata": {},
   "outputs": [
    {
     "name": "stdout",
     "output_type": "stream",
     "text": [
      "(30, 30)\n"
     ]
    }
   ],
   "source": [
    "v1, v2 = verify(p, B, a, m, r, s)\n",
    "print((v1, v2))"
   ]
  },
  {
   "cell_type": "code",
   "execution_count": null,
   "metadata": {},
   "outputs": [],
   "source": []
  },
  {
   "cell_type": "markdown",
   "metadata": {},
   "source": [
    "### 2. For DSA, let the public key be (p = 149, q = 37, g = 41, y = 120), and the secret key be (p = 149, q = 37, g = 41, x = 26). Assume that the hash function is h(m) = $m^{21}$ mod 37. (30 points)"
   ]
  },
  {
   "cell_type": "markdown",
   "metadata": {},
   "source": [
    "##### (a) Compute the signature of m = 9876543210."
   ]
  },
  {
   "cell_type": "markdown",
   "metadata": {},
   "source": [
    "##### Answer"
   ]
  },
  {
   "cell_type": "code",
   "execution_count": null,
   "metadata": {},
   "outputs": [],
   "source": []
  },
  {
   "cell_type": "markdown",
   "metadata": {},
   "source": [
    "##### (b) Is (12, 25) a valid signature for m = 3248?"
   ]
  },
  {
   "cell_type": "markdown",
   "metadata": {},
   "source": [
    "##### Answer"
   ]
  },
  {
   "cell_type": "code",
   "execution_count": null,
   "metadata": {},
   "outputs": [],
   "source": []
  },
  {
   "cell_type": "markdown",
   "metadata": {},
   "source": [
    "3. Show that the regular RSA signature scheme is ”arbitrarily forgeable” (forging the signature of any challenge message m) if the attacker is allowed to ask the signing oracle. Note that the challenge message m cannot be queried to the signing oracle. (20 points)"
   ]
  },
  {
   "cell_type": "markdown",
   "metadata": {},
   "source": [
    "4. Why is the ”sequential” DL-based interactive proof system zero-knowledge? Why isn’t the ”parallel” DL-based interactive proof system zero-knowledge? (30 points)"
   ]
  }
 ],
 "metadata": {
  "kernelspec": {
   "display_name": "Python 3",
   "language": "python",
   "name": "python3"
  },
  "language_info": {
   "codemirror_mode": {
    "name": "ipython",
    "version": 3
   },
   "file_extension": ".py",
   "mimetype": "text/x-python",
   "name": "python",
   "nbconvert_exporter": "python",
   "pygments_lexer": "ipython3",
   "version": "3.6.12"
  }
 },
 "nbformat": 4,
 "nbformat_minor": 4
}
